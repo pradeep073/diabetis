{
  "nbformat": 4,
  "nbformat_minor": 0,
  "metadata": {
    "colab": {
      "name": "Copy of Diabetes Classification.ipynb",
      "provenance": [],
      "collapsed_sections": []
    },
    "kernelspec": {
      "name": "python3",
      "display_name": "Python 3"
    },
    "language_info": {
      "name": "python"
    }
  },
  "cells": [
    {
      "cell_type": "code",
      "metadata": {
        "id": "HwhJ1C2h1_Ce"
      },
      "source": [
        "import pandas as pd\n",
        "import numpy as np"
      ],
      "execution_count": null,
      "outputs": []
    },
    {
      "cell_type": "code",
      "metadata": {
        "id": "MjoN3BQT37SK"
      },
      "source": [
        "df = pd.read_csv(r'https://raw.githubusercontent.com/a-coders-guide-to-ai/a-coders-guide-to-neural-networks/master/data/diabetes.csv')"
      ],
      "execution_count": null,
      "outputs": []
    },
    {
      "cell_type": "code",
      "metadata": {
        "colab": {
          "base_uri": "https://localhost:8080/",
          "height": 204
        },
        "id": "FZieM1rNsgqt",
        "outputId": "bd8d0830-0ee4-46bc-c9f8-e4889dfbec1d"
      },
      "source": [
        "df.head()"
      ],
      "execution_count": null,
      "outputs": [
        {
          "output_type": "execute_result",
          "data": {
            "text/html": [
              "<div>\n",
              "<style scoped>\n",
              "    .dataframe tbody tr th:only-of-type {\n",
              "        vertical-align: middle;\n",
              "    }\n",
              "\n",
              "    .dataframe tbody tr th {\n",
              "        vertical-align: top;\n",
              "    }\n",
              "\n",
              "    .dataframe thead th {\n",
              "        text-align: right;\n",
              "    }\n",
              "</style>\n",
              "<table border=\"1\" class=\"dataframe\">\n",
              "  <thead>\n",
              "    <tr style=\"text-align: right;\">\n",
              "      <th></th>\n",
              "      <th>Pregnancies</th>\n",
              "      <th>Glucose</th>\n",
              "      <th>BloodPressure</th>\n",
              "      <th>SkinThickness</th>\n",
              "      <th>Insulin</th>\n",
              "      <th>BMI</th>\n",
              "      <th>DiabetesPedigreeFunction</th>\n",
              "      <th>Age</th>\n",
              "      <th>Outcome</th>\n",
              "    </tr>\n",
              "  </thead>\n",
              "  <tbody>\n",
              "    <tr>\n",
              "      <th>0</th>\n",
              "      <td>6</td>\n",
              "      <td>148</td>\n",
              "      <td>72</td>\n",
              "      <td>35</td>\n",
              "      <td>0</td>\n",
              "      <td>33.6</td>\n",
              "      <td>0.627</td>\n",
              "      <td>50</td>\n",
              "      <td>1</td>\n",
              "    </tr>\n",
              "    <tr>\n",
              "      <th>1</th>\n",
              "      <td>1</td>\n",
              "      <td>85</td>\n",
              "      <td>66</td>\n",
              "      <td>29</td>\n",
              "      <td>0</td>\n",
              "      <td>26.6</td>\n",
              "      <td>0.351</td>\n",
              "      <td>31</td>\n",
              "      <td>0</td>\n",
              "    </tr>\n",
              "    <tr>\n",
              "      <th>2</th>\n",
              "      <td>8</td>\n",
              "      <td>183</td>\n",
              "      <td>64</td>\n",
              "      <td>0</td>\n",
              "      <td>0</td>\n",
              "      <td>23.3</td>\n",
              "      <td>0.672</td>\n",
              "      <td>32</td>\n",
              "      <td>1</td>\n",
              "    </tr>\n",
              "    <tr>\n",
              "      <th>3</th>\n",
              "      <td>1</td>\n",
              "      <td>89</td>\n",
              "      <td>66</td>\n",
              "      <td>23</td>\n",
              "      <td>94</td>\n",
              "      <td>28.1</td>\n",
              "      <td>0.167</td>\n",
              "      <td>21</td>\n",
              "      <td>0</td>\n",
              "    </tr>\n",
              "    <tr>\n",
              "      <th>4</th>\n",
              "      <td>0</td>\n",
              "      <td>137</td>\n",
              "      <td>40</td>\n",
              "      <td>35</td>\n",
              "      <td>168</td>\n",
              "      <td>43.1</td>\n",
              "      <td>2.288</td>\n",
              "      <td>33</td>\n",
              "      <td>1</td>\n",
              "    </tr>\n",
              "  </tbody>\n",
              "</table>\n",
              "</div>"
            ],
            "text/plain": [
              "   Pregnancies  Glucose  BloodPressure  ...  DiabetesPedigreeFunction  Age  Outcome\n",
              "0            6      148             72  ...                     0.627   50        1\n",
              "1            1       85             66  ...                     0.351   31        0\n",
              "2            8      183             64  ...                     0.672   32        1\n",
              "3            1       89             66  ...                     0.167   21        0\n",
              "4            0      137             40  ...                     2.288   33        1\n",
              "\n",
              "[5 rows x 9 columns]"
            ]
          },
          "metadata": {
            "tags": []
          },
          "execution_count": 3
        }
      ]
    },
    {
      "cell_type": "code",
      "metadata": {
        "id": "LXq7g4uEslc-"
      },
      "source": [
        "from sklearn.model_selection import cross_val_predict, StratifiedKFold, train_test_split\n",
        "from sklearn.linear_model import LogisticRegression\n",
        "from sklearn.tree import DecisionTreeClassifier\n",
        "from sklearn.ensemble import RandomForestClassifier\n",
        "from sklearn.neural_network import MLPClassifier\n",
        "from sklearn.svm import SVC\n",
        "from sklearn.neighbors import KNeighborsClassifier\n",
        "from sklearn.naive_bayes import GaussianNB\n",
        "from xgboost import XGBClassifier\n",
        "from sklearn import metrics\n",
        "from hyperopt import hp,fmin,tpe,Trials,space_eval\n",
        "from functools import partial"
      ],
      "execution_count": null,
      "outputs": []
    },
    {
      "cell_type": "code",
      "metadata": {
        "id": "A2GNmkq-trXy"
      },
      "source": [
        "X_train,X_test,Y_train,Y_test = train_test_split(df[[i for i in df.columns if i != 'Outcome']],df['Outcome'], test_size=0.2, random_state=0)"
      ],
      "execution_count": null,
      "outputs": []
    },
    {
      "cell_type": "code",
      "metadata": {
        "colab": {
          "base_uri": "https://localhost:8080/"
        },
        "id": "v7vmQAHXuKxi",
        "outputId": "39f6eae8-69a0-4adb-fc63-e9d080d3a262"
      },
      "source": [
        "print(X_train.shape)\n",
        "print(X_test.shape)\n",
        "print(Y_train.shape)\n",
        "print(Y_test.shape)"
      ],
      "execution_count": null,
      "outputs": [
        {
          "output_type": "stream",
          "text": [
            "(614, 8)\n",
            "(154, 8)\n",
            "(614,)\n",
            "(154,)\n"
          ],
          "name": "stdout"
        }
      ]
    },
    {
      "cell_type": "code",
      "metadata": {
        "colab": {
          "base_uri": "https://localhost:8080/",
          "height": 340
        },
        "id": "4t02P8CEuNKp",
        "outputId": "073f6e33-f165-46fc-a874-02f0f98731b7"
      },
      "source": [
        "model = LogisticRegression()\n",
        "\n",
        "model.fit(X_train,Y_train)\n",
        "      \n",
        "report = pd.DataFrame(metrics.classification_report(Y_test, model.predict(X_test),output_dict=True)).T.reset_index().rename(columns = {'index':'Outcome'})\n",
        "report"
      ],
      "execution_count": null,
      "outputs": [
        {
          "output_type": "stream",
          "text": [
            "/usr/local/lib/python3.7/dist-packages/sklearn/linear_model/_logistic.py:940: ConvergenceWarning: lbfgs failed to converge (status=1):\n",
            "STOP: TOTAL NO. of ITERATIONS REACHED LIMIT.\n",
            "\n",
            "Increase the number of iterations (max_iter) or scale the data as shown in:\n",
            "    https://scikit-learn.org/stable/modules/preprocessing.html\n",
            "Please also refer to the documentation for alternative solver options:\n",
            "    https://scikit-learn.org/stable/modules/linear_model.html#logistic-regression\n",
            "  extra_warning_msg=_LOGISTIC_SOLVER_CONVERGENCE_MSG)\n"
          ],
          "name": "stderr"
        },
        {
          "output_type": "execute_result",
          "data": {
            "text/html": [
              "<div>\n",
              "<style scoped>\n",
              "    .dataframe tbody tr th:only-of-type {\n",
              "        vertical-align: middle;\n",
              "    }\n",
              "\n",
              "    .dataframe tbody tr th {\n",
              "        vertical-align: top;\n",
              "    }\n",
              "\n",
              "    .dataframe thead th {\n",
              "        text-align: right;\n",
              "    }\n",
              "</style>\n",
              "<table border=\"1\" class=\"dataframe\">\n",
              "  <thead>\n",
              "    <tr style=\"text-align: right;\">\n",
              "      <th></th>\n",
              "      <th>Outcome</th>\n",
              "      <th>precision</th>\n",
              "      <th>recall</th>\n",
              "      <th>f1-score</th>\n",
              "      <th>support</th>\n",
              "    </tr>\n",
              "  </thead>\n",
              "  <tbody>\n",
              "    <tr>\n",
              "      <th>0</th>\n",
              "      <td>0</td>\n",
              "      <td>0.844828</td>\n",
              "      <td>0.915888</td>\n",
              "      <td>0.878924</td>\n",
              "      <td>107.000000</td>\n",
              "    </tr>\n",
              "    <tr>\n",
              "      <th>1</th>\n",
              "      <td>1</td>\n",
              "      <td>0.763158</td>\n",
              "      <td>0.617021</td>\n",
              "      <td>0.682353</td>\n",
              "      <td>47.000000</td>\n",
              "    </tr>\n",
              "    <tr>\n",
              "      <th>2</th>\n",
              "      <td>accuracy</td>\n",
              "      <td>0.824675</td>\n",
              "      <td>0.824675</td>\n",
              "      <td>0.824675</td>\n",
              "      <td>0.824675</td>\n",
              "    </tr>\n",
              "    <tr>\n",
              "      <th>3</th>\n",
              "      <td>macro avg</td>\n",
              "      <td>0.803993</td>\n",
              "      <td>0.766455</td>\n",
              "      <td>0.780638</td>\n",
              "      <td>154.000000</td>\n",
              "    </tr>\n",
              "    <tr>\n",
              "      <th>4</th>\n",
              "      <td>weighted avg</td>\n",
              "      <td>0.819902</td>\n",
              "      <td>0.824675</td>\n",
              "      <td>0.818931</td>\n",
              "      <td>154.000000</td>\n",
              "    </tr>\n",
              "  </tbody>\n",
              "</table>\n",
              "</div>"
            ],
            "text/plain": [
              "        Outcome  precision    recall  f1-score     support\n",
              "0             0   0.844828  0.915888  0.878924  107.000000\n",
              "1             1   0.763158  0.617021  0.682353   47.000000\n",
              "2      accuracy   0.824675  0.824675  0.824675    0.824675\n",
              "3     macro avg   0.803993  0.766455  0.780638  154.000000\n",
              "4  weighted avg   0.819902  0.824675  0.818931  154.000000"
            ]
          },
          "metadata": {
            "tags": []
          },
          "execution_count": 7
        }
      ]
    },
    {
      "cell_type": "code",
      "metadata": {
        "colab": {
          "base_uri": "https://localhost:8080/",
          "height": 204
        },
        "id": "u1i50Yg_6MPe",
        "outputId": "ea8d7390-8bc8-479a-e194-68276915a529"
      },
      "source": [
        "report = pd.DataFrame(metrics.classification_report(Y_test, [1  if i >= 0.9 else 0 for i in model.predict_proba(X_test)[:,1]],output_dict=True)).T.reset_index().rename(columns = {'index':'Outcome'})\n",
        "report"
      ],
      "execution_count": null,
      "outputs": [
        {
          "output_type": "execute_result",
          "data": {
            "text/html": [
              "<div>\n",
              "<style scoped>\n",
              "    .dataframe tbody tr th:only-of-type {\n",
              "        vertical-align: middle;\n",
              "    }\n",
              "\n",
              "    .dataframe tbody tr th {\n",
              "        vertical-align: top;\n",
              "    }\n",
              "\n",
              "    .dataframe thead th {\n",
              "        text-align: right;\n",
              "    }\n",
              "</style>\n",
              "<table border=\"1\" class=\"dataframe\">\n",
              "  <thead>\n",
              "    <tr style=\"text-align: right;\">\n",
              "      <th></th>\n",
              "      <th>Outcome</th>\n",
              "      <th>precision</th>\n",
              "      <th>recall</th>\n",
              "      <th>f1-score</th>\n",
              "      <th>support</th>\n",
              "    </tr>\n",
              "  </thead>\n",
              "  <tbody>\n",
              "    <tr>\n",
              "      <th>0</th>\n",
              "      <td>0</td>\n",
              "      <td>0.704698</td>\n",
              "      <td>0.981308</td>\n",
              "      <td>0.820312</td>\n",
              "      <td>107.000000</td>\n",
              "    </tr>\n",
              "    <tr>\n",
              "      <th>1</th>\n",
              "      <td>1</td>\n",
              "      <td>0.600000</td>\n",
              "      <td>0.063830</td>\n",
              "      <td>0.115385</td>\n",
              "      <td>47.000000</td>\n",
              "    </tr>\n",
              "    <tr>\n",
              "      <th>2</th>\n",
              "      <td>accuracy</td>\n",
              "      <td>0.701299</td>\n",
              "      <td>0.701299</td>\n",
              "      <td>0.701299</td>\n",
              "      <td>0.701299</td>\n",
              "    </tr>\n",
              "    <tr>\n",
              "      <th>3</th>\n",
              "      <td>macro avg</td>\n",
              "      <td>0.652349</td>\n",
              "      <td>0.522569</td>\n",
              "      <td>0.467849</td>\n",
              "      <td>154.000000</td>\n",
              "    </tr>\n",
              "    <tr>\n",
              "      <th>4</th>\n",
              "      <td>weighted avg</td>\n",
              "      <td>0.672745</td>\n",
              "      <td>0.701299</td>\n",
              "      <td>0.605172</td>\n",
              "      <td>154.000000</td>\n",
              "    </tr>\n",
              "  </tbody>\n",
              "</table>\n",
              "</div>"
            ],
            "text/plain": [
              "        Outcome  precision    recall  f1-score     support\n",
              "0             0   0.704698  0.981308  0.820312  107.000000\n",
              "1             1   0.600000  0.063830  0.115385   47.000000\n",
              "2      accuracy   0.701299  0.701299  0.701299    0.701299\n",
              "3     macro avg   0.652349  0.522569  0.467849  154.000000\n",
              "4  weighted avg   0.672745  0.701299  0.605172  154.000000"
            ]
          },
          "metadata": {
            "tags": []
          },
          "execution_count": 8
        }
      ]
    },
    {
      "cell_type": "code",
      "metadata": {
        "colab": {
          "base_uri": "https://localhost:8080/",
          "height": 204
        },
        "id": "qtPt22ppaI6d",
        "outputId": "07fb3469-77df-4557-c586-dcc9ceb32e02"
      },
      "source": [
        "model = DecisionTreeClassifier()\n",
        "\n",
        "model.fit(X_train,Y_train)\n",
        "      \n",
        "report = pd.DataFrame(metrics.classification_report(Y_test, model.predict(X_test),output_dict=True)).T.reset_index().rename(columns = {'index':'Outcome'})\n",
        "report"
      ],
      "execution_count": null,
      "outputs": [
        {
          "output_type": "execute_result",
          "data": {
            "text/html": [
              "<div>\n",
              "<style scoped>\n",
              "    .dataframe tbody tr th:only-of-type {\n",
              "        vertical-align: middle;\n",
              "    }\n",
              "\n",
              "    .dataframe tbody tr th {\n",
              "        vertical-align: top;\n",
              "    }\n",
              "\n",
              "    .dataframe thead th {\n",
              "        text-align: right;\n",
              "    }\n",
              "</style>\n",
              "<table border=\"1\" class=\"dataframe\">\n",
              "  <thead>\n",
              "    <tr style=\"text-align: right;\">\n",
              "      <th></th>\n",
              "      <th>Outcome</th>\n",
              "      <th>precision</th>\n",
              "      <th>recall</th>\n",
              "      <th>f1-score</th>\n",
              "      <th>support</th>\n",
              "    </tr>\n",
              "  </thead>\n",
              "  <tbody>\n",
              "    <tr>\n",
              "      <th>0</th>\n",
              "      <td>0</td>\n",
              "      <td>0.840000</td>\n",
              "      <td>0.785047</td>\n",
              "      <td>0.811594</td>\n",
              "      <td>107.000000</td>\n",
              "    </tr>\n",
              "    <tr>\n",
              "      <th>1</th>\n",
              "      <td>1</td>\n",
              "      <td>0.574074</td>\n",
              "      <td>0.659574</td>\n",
              "      <td>0.613861</td>\n",
              "      <td>47.000000</td>\n",
              "    </tr>\n",
              "    <tr>\n",
              "      <th>2</th>\n",
              "      <td>accuracy</td>\n",
              "      <td>0.746753</td>\n",
              "      <td>0.746753</td>\n",
              "      <td>0.746753</td>\n",
              "      <td>0.746753</td>\n",
              "    </tr>\n",
              "    <tr>\n",
              "      <th>3</th>\n",
              "      <td>macro avg</td>\n",
              "      <td>0.707037</td>\n",
              "      <td>0.722311</td>\n",
              "      <td>0.712728</td>\n",
              "      <td>154.000000</td>\n",
              "    </tr>\n",
              "    <tr>\n",
              "      <th>4</th>\n",
              "      <td>weighted avg</td>\n",
              "      <td>0.758841</td>\n",
              "      <td>0.746753</td>\n",
              "      <td>0.751247</td>\n",
              "      <td>154.000000</td>\n",
              "    </tr>\n",
              "  </tbody>\n",
              "</table>\n",
              "</div>"
            ],
            "text/plain": [
              "        Outcome  precision    recall  f1-score     support\n",
              "0             0   0.840000  0.785047  0.811594  107.000000\n",
              "1             1   0.574074  0.659574  0.613861   47.000000\n",
              "2      accuracy   0.746753  0.746753  0.746753    0.746753\n",
              "3     macro avg   0.707037  0.722311  0.712728  154.000000\n",
              "4  weighted avg   0.758841  0.746753  0.751247  154.000000"
            ]
          },
          "metadata": {
            "tags": []
          },
          "execution_count": 9
        }
      ]
    },
    {
      "cell_type": "code",
      "metadata": {
        "colab": {
          "base_uri": "https://localhost:8080/",
          "height": 683
        },
        "id": "eWSIGulragtH",
        "outputId": "e7ec29f3-1bce-438f-95f2-5bf999f13408"
      },
      "source": [
        "from sklearn.tree import plot_tree\n",
        "import matplotlib.pyplot as plt\n",
        "\n",
        "plt.figure(figsize=(12,12))  # set plot size (denoted in inches)\n",
        "plot_tree(model, fontsize=10)\n",
        "plt.show()"
      ],
      "execution_count": null,
      "outputs": [
        {
          "output_type": "display_data",
          "data": {
            "image/png": "[encoded data removed]",
            "text/plain": [
              "<Figure size 864x864 with 1 Axes>"
            ]
          },
          "metadata": {
            "tags": [],
            "needs_background": "light"
          }
        }
      ]
    },
    {
      "cell_type": "code",
      "metadata": {
        "colab": {
          "base_uri": "https://localhost:8080/",
          "height": 204
        },
        "id": "359mhYiEbBc1",
        "outputId": "a70c26af-1594-4f8a-aa78-ad4b0a90b24f"
      },
      "source": [
        "model = DecisionTreeClassifier(max_depth=3)\n",
        "\n",
        "model.fit(X_train,Y_train)\n",
        "      \n",
        "report = pd.DataFrame(metrics.classification_report(Y_test, model.predict(X_test),output_dict=True)).T.reset_index().rename(columns = {'index':'Outcome'})\n",
        "report"
      ],
      "execution_count": null,
      "outputs": [
        {
          "output_type": "execute_result",
          "data": {
            "text/html": [
              "<div>\n",
              "<style scoped>\n",
              "    .dataframe tbody tr th:only-of-type {\n",
              "        vertical-align: middle;\n",
              "    }\n",
              "\n",
              "    .dataframe tbody tr th {\n",
              "        vertical-align: top;\n",
              "    }\n",
              "\n",
              "    .dataframe thead th {\n",
              "        text-align: right;\n",
              "    }\n",
              "</style>\n",
              "<table border=\"1\" class=\"dataframe\">\n",
              "  <thead>\n",
              "    <tr style=\"text-align: right;\">\n",
              "      <th></th>\n",
              "      <th>Outcome</th>\n",
              "      <th>precision</th>\n",
              "      <th>recall</th>\n",
              "      <th>f1-score</th>\n",
              "      <th>support</th>\n",
              "    </tr>\n",
              "  </thead>\n",
              "  <tbody>\n",
              "    <tr>\n",
              "      <th>0</th>\n",
              "      <td>0</td>\n",
              "      <td>0.801724</td>\n",
              "      <td>0.869159</td>\n",
              "      <td>0.834081</td>\n",
              "      <td>107.00000</td>\n",
              "    </tr>\n",
              "    <tr>\n",
              "      <th>1</th>\n",
              "      <td>1</td>\n",
              "      <td>0.631579</td>\n",
              "      <td>0.510638</td>\n",
              "      <td>0.564706</td>\n",
              "      <td>47.00000</td>\n",
              "    </tr>\n",
              "    <tr>\n",
              "      <th>2</th>\n",
              "      <td>accuracy</td>\n",
              "      <td>0.759740</td>\n",
              "      <td>0.759740</td>\n",
              "      <td>0.759740</td>\n",
              "      <td>0.75974</td>\n",
              "    </tr>\n",
              "    <tr>\n",
              "      <th>3</th>\n",
              "      <td>macro avg</td>\n",
              "      <td>0.716652</td>\n",
              "      <td>0.689899</td>\n",
              "      <td>0.699393</td>\n",
              "      <td>154.00000</td>\n",
              "    </tr>\n",
              "    <tr>\n",
              "      <th>4</th>\n",
              "      <td>weighted avg</td>\n",
              "      <td>0.749797</td>\n",
              "      <td>0.759740</td>\n",
              "      <td>0.751869</td>\n",
              "      <td>154.00000</td>\n",
              "    </tr>\n",
              "  </tbody>\n",
              "</table>\n",
              "</div>"
            ],
            "text/plain": [
              "        Outcome  precision    recall  f1-score    support\n",
              "0             0   0.801724  0.869159  0.834081  107.00000\n",
              "1             1   0.631579  0.510638  0.564706   47.00000\n",
              "2      accuracy   0.759740  0.759740  0.759740    0.75974\n",
              "3     macro avg   0.716652  0.689899  0.699393  154.00000\n",
              "4  weighted avg   0.749797  0.759740  0.751869  154.00000"
            ]
          },
          "metadata": {
            "tags": []
          },
          "execution_count": 11
        }
      ]
    },
    {
      "cell_type": "code",
      "metadata": {
        "colab": {
          "base_uri": "https://localhost:8080/",
          "height": 683
        },
        "id": "ND_XpEctbISQ",
        "outputId": "e5fa601f-0d03-4948-f969-7916b9f3a372"
      },
      "source": [
        "from sklearn.tree import plot_tree\n",
        "import matplotlib.pyplot as plt\n",
        "\n",
        "plt.figure(figsize=(12,12))  # set plot size (denoted in inches)\n",
        "plot_tree(model, fontsize=10)\n",
        "plt.show()"
      ],
      "execution_count": null,
      "outputs": [
        {
          "output_type": "display_data",
          "data": {
            "image/png": "[encoded data removed]",
            "text/plain": [
              "<Figure size 864x864 with 1 Axes>"
            ]
          },
          "metadata": {
            "tags": [],
            "needs_background": "light"
          }
        }
      ]
    },
    {
      "cell_type": "code",
      "metadata": {
        "colab": {
          "base_uri": "https://localhost:8080/",
          "height": 204
        },
        "id": "2C-KmzCNu1O6",
        "outputId": "1e75f5c3-9d47-48dc-fc77-d4a29142ba0b"
      },
      "source": [
        "model = RandomForestClassifier()\n",
        "\n",
        "model.fit(X_train,Y_train)\n",
        "      \n",
        "report = pd.DataFrame(metrics.classification_report(Y_test, model.predict(X_test),output_dict=True)).T.reset_index().rename(columns = {'index':'Outcome'})\n",
        "report"
      ],
      "execution_count": null,
      "outputs": [
        {
          "output_type": "execute_result",
          "data": {
            "text/html": [
              "<div>\n",
              "<style scoped>\n",
              "    .dataframe tbody tr th:only-of-type {\n",
              "        vertical-align: middle;\n",
              "    }\n",
              "\n",
              "    .dataframe tbody tr th {\n",
              "        vertical-align: top;\n",
              "    }\n",
              "\n",
              "    .dataframe thead th {\n",
              "        text-align: right;\n",
              "    }\n",
              "</style>\n",
              "<table border=\"1\" class=\"dataframe\">\n",
              "  <thead>\n",
              "    <tr style=\"text-align: right;\">\n",
              "      <th></th>\n",
              "      <th>Outcome</th>\n",
              "      <th>precision</th>\n",
              "      <th>recall</th>\n",
              "      <th>f1-score</th>\n",
              "      <th>support</th>\n",
              "    </tr>\n",
              "  </thead>\n",
              "  <tbody>\n",
              "    <tr>\n",
              "      <th>0</th>\n",
              "      <td>0</td>\n",
              "      <td>0.830357</td>\n",
              "      <td>0.869159</td>\n",
              "      <td>0.849315</td>\n",
              "      <td>107.000000</td>\n",
              "    </tr>\n",
              "    <tr>\n",
              "      <th>1</th>\n",
              "      <td>1</td>\n",
              "      <td>0.666667</td>\n",
              "      <td>0.595745</td>\n",
              "      <td>0.629213</td>\n",
              "      <td>47.000000</td>\n",
              "    </tr>\n",
              "    <tr>\n",
              "      <th>2</th>\n",
              "      <td>accuracy</td>\n",
              "      <td>0.785714</td>\n",
              "      <td>0.785714</td>\n",
              "      <td>0.785714</td>\n",
              "      <td>0.785714</td>\n",
              "    </tr>\n",
              "    <tr>\n",
              "      <th>3</th>\n",
              "      <td>macro avg</td>\n",
              "      <td>0.748512</td>\n",
              "      <td>0.732452</td>\n",
              "      <td>0.739264</td>\n",
              "      <td>154.000000</td>\n",
              "    </tr>\n",
              "    <tr>\n",
              "      <th>4</th>\n",
              "      <td>weighted avg</td>\n",
              "      <td>0.780400</td>\n",
              "      <td>0.785714</td>\n",
              "      <td>0.782141</td>\n",
              "      <td>154.000000</td>\n",
              "    </tr>\n",
              "  </tbody>\n",
              "</table>\n",
              "</div>"
            ],
            "text/plain": [
              "        Outcome  precision    recall  f1-score     support\n",
              "0             0   0.830357  0.869159  0.849315  107.000000\n",
              "1             1   0.666667  0.595745  0.629213   47.000000\n",
              "2      accuracy   0.785714  0.785714  0.785714    0.785714\n",
              "3     macro avg   0.748512  0.732452  0.739264  154.000000\n",
              "4  weighted avg   0.780400  0.785714  0.782141  154.000000"
            ]
          },
          "metadata": {
            "tags": []
          },
          "execution_count": 13
        }
      ]
    },
    {
      "cell_type": "code",
      "metadata": {
        "colab": {
          "base_uri": "https://localhost:8080/",
          "height": 204
        },
        "id": "8JIKScMYvKMp",
        "outputId": "2a1530f5-fea2-469b-c6d6-0e54bdd7bcdc"
      },
      "source": [
        "model = SVC()\n",
        "\n",
        "model.fit(X_train,Y_train)\n",
        "      \n",
        "report = pd.DataFrame(metrics.classification_report(Y_test, model.predict(X_test),output_dict=True)).T.reset_index().rename(columns = {'index':'Outcome'})\n",
        "report"
      ],
      "execution_count": null,
      "outputs": [
        {
          "output_type": "execute_result",
          "data": {
            "text/html": [
              "<div>\n",
              "<style scoped>\n",
              "    .dataframe tbody tr th:only-of-type {\n",
              "        vertical-align: middle;\n",
              "    }\n",
              "\n",
              "    .dataframe tbody tr th {\n",
              "        vertical-align: top;\n",
              "    }\n",
              "\n",
              "    .dataframe thead th {\n",
              "        text-align: right;\n",
              "    }\n",
              "</style>\n",
              "<table border=\"1\" class=\"dataframe\">\n",
              "  <thead>\n",
              "    <tr style=\"text-align: right;\">\n",
              "      <th></th>\n",
              "      <th>Outcome</th>\n",
              "      <th>precision</th>\n",
              "      <th>recall</th>\n",
              "      <th>f1-score</th>\n",
              "      <th>support</th>\n",
              "    </tr>\n",
              "  </thead>\n",
              "  <tbody>\n",
              "    <tr>\n",
              "      <th>0</th>\n",
              "      <td>0</td>\n",
              "      <td>0.809917</td>\n",
              "      <td>0.915888</td>\n",
              "      <td>0.859649</td>\n",
              "      <td>107.000000</td>\n",
              "    </tr>\n",
              "    <tr>\n",
              "      <th>1</th>\n",
              "      <td>1</td>\n",
              "      <td>0.727273</td>\n",
              "      <td>0.510638</td>\n",
              "      <td>0.600000</td>\n",
              "      <td>47.000000</td>\n",
              "    </tr>\n",
              "    <tr>\n",
              "      <th>2</th>\n",
              "      <td>accuracy</td>\n",
              "      <td>0.792208</td>\n",
              "      <td>0.792208</td>\n",
              "      <td>0.792208</td>\n",
              "      <td>0.792208</td>\n",
              "    </tr>\n",
              "    <tr>\n",
              "      <th>3</th>\n",
              "      <td>macro avg</td>\n",
              "      <td>0.768595</td>\n",
              "      <td>0.713263</td>\n",
              "      <td>0.729825</td>\n",
              "      <td>154.000000</td>\n",
              "    </tr>\n",
              "    <tr>\n",
              "      <th>4</th>\n",
              "      <td>weighted avg</td>\n",
              "      <td>0.784695</td>\n",
              "      <td>0.792208</td>\n",
              "      <td>0.780406</td>\n",
              "      <td>154.000000</td>\n",
              "    </tr>\n",
              "  </tbody>\n",
              "</table>\n",
              "</div>"
            ],
            "text/plain": [
              "        Outcome  precision    recall  f1-score     support\n",
              "0             0   0.809917  0.915888  0.859649  107.000000\n",
              "1             1   0.727273  0.510638  0.600000   47.000000\n",
              "2      accuracy   0.792208  0.792208  0.792208    0.792208\n",
              "3     macro avg   0.768595  0.713263  0.729825  154.000000\n",
              "4  weighted avg   0.784695  0.792208  0.780406  154.000000"
            ]
          },
          "metadata": {
            "tags": []
          },
          "execution_count": 14
        }
      ]
    },
    {
      "cell_type": "code",
      "metadata": {
        "colab": {
          "base_uri": "https://localhost:8080/",
          "height": 204
        },
        "id": "_1rvAXtFvPly",
        "outputId": "0eed382b-2b09-40f5-d4d3-233f77300af0"
      },
      "source": [
        "model = MLPClassifier()\n",
        "\n",
        "model.fit(X_train,Y_train)\n",
        "      \n",
        "report = pd.DataFrame(metrics.classification_report(Y_test, model.predict(X_test),output_dict=True)).T.reset_index().rename(columns = {'index':'Outcome'})\n",
        "report"
      ],
      "execution_count": null,
      "outputs": [
        {
          "output_type": "execute_result",
          "data": {
            "text/html": [
              "<div>\n",
              "<style scoped>\n",
              "    .dataframe tbody tr th:only-of-type {\n",
              "        vertical-align: middle;\n",
              "    }\n",
              "\n",
              "    .dataframe tbody tr th {\n",
              "        vertical-align: top;\n",
              "    }\n",
              "\n",
              "    .dataframe thead th {\n",
              "        text-align: right;\n",
              "    }\n",
              "</style>\n",
              "<table border=\"1\" class=\"dataframe\">\n",
              "  <thead>\n",
              "    <tr style=\"text-align: right;\">\n",
              "      <th></th>\n",
              "      <th>Outcome</th>\n",
              "      <th>precision</th>\n",
              "      <th>recall</th>\n",
              "      <th>f1-score</th>\n",
              "      <th>support</th>\n",
              "    </tr>\n",
              "  </thead>\n",
              "  <tbody>\n",
              "    <tr>\n",
              "      <th>0</th>\n",
              "      <td>0</td>\n",
              "      <td>0.800000</td>\n",
              "      <td>0.785047</td>\n",
              "      <td>0.792453</td>\n",
              "      <td>107.000000</td>\n",
              "    </tr>\n",
              "    <tr>\n",
              "      <th>1</th>\n",
              "      <td>1</td>\n",
              "      <td>0.530612</td>\n",
              "      <td>0.553191</td>\n",
              "      <td>0.541667</td>\n",
              "      <td>47.000000</td>\n",
              "    </tr>\n",
              "    <tr>\n",
              "      <th>2</th>\n",
              "      <td>accuracy</td>\n",
              "      <td>0.714286</td>\n",
              "      <td>0.714286</td>\n",
              "      <td>0.714286</td>\n",
              "      <td>0.714286</td>\n",
              "    </tr>\n",
              "    <tr>\n",
              "      <th>3</th>\n",
              "      <td>macro avg</td>\n",
              "      <td>0.665306</td>\n",
              "      <td>0.669119</td>\n",
              "      <td>0.667060</td>\n",
              "      <td>154.000000</td>\n",
              "    </tr>\n",
              "    <tr>\n",
              "      <th>4</th>\n",
              "      <td>weighted avg</td>\n",
              "      <td>0.717784</td>\n",
              "      <td>0.714286</td>\n",
              "      <td>0.715914</td>\n",
              "      <td>154.000000</td>\n",
              "    </tr>\n",
              "  </tbody>\n",
              "</table>\n",
              "</div>"
            ],
            "text/plain": [
              "        Outcome  precision    recall  f1-score     support\n",
              "0             0   0.800000  0.785047  0.792453  107.000000\n",
              "1             1   0.530612  0.553191  0.541667   47.000000\n",
              "2      accuracy   0.714286  0.714286  0.714286    0.714286\n",
              "3     macro avg   0.665306  0.669119  0.667060  154.000000\n",
              "4  weighted avg   0.717784  0.714286  0.715914  154.000000"
            ]
          },
          "metadata": {
            "tags": []
          },
          "execution_count": 15
        }
      ]
    },
    {
      "cell_type": "code",
      "metadata": {
        "colab": {
          "base_uri": "https://localhost:8080/",
          "height": 204
        },
        "id": "HlLoJtUZvPLh",
        "outputId": "261d31b6-027e-4640-bff1-7ea243230f79"
      },
      "source": [
        "model = XGBClassifier()\n",
        "\n",
        "model.fit(X_train,Y_train)\n",
        "      \n",
        "report = pd.DataFrame(metrics.classification_report(Y_test, model.predict(X_test),output_dict=True)).T.reset_index().rename(columns = {'index':'Outcome'})\n",
        "report"
      ],
      "execution_count": null,
      "outputs": [
        {
          "output_type": "execute_result",
          "data": {
            "text/html": [
              "<div>\n",
              "<style scoped>\n",
              "    .dataframe tbody tr th:only-of-type {\n",
              "        vertical-align: middle;\n",
              "    }\n",
              "\n",
              "    .dataframe tbody tr th {\n",
              "        vertical-align: top;\n",
              "    }\n",
              "\n",
              "    .dataframe thead th {\n",
              "        text-align: right;\n",
              "    }\n",
              "</style>\n",
              "<table border=\"1\" class=\"dataframe\">\n",
              "  <thead>\n",
              "    <tr style=\"text-align: right;\">\n",
              "      <th></th>\n",
              "      <th>Outcome</th>\n",
              "      <th>precision</th>\n",
              "      <th>recall</th>\n",
              "      <th>f1-score</th>\n",
              "      <th>support</th>\n",
              "    </tr>\n",
              "  </thead>\n",
              "  <tbody>\n",
              "    <tr>\n",
              "      <th>0</th>\n",
              "      <td>0</td>\n",
              "      <td>0.869159</td>\n",
              "      <td>0.869159</td>\n",
              "      <td>0.869159</td>\n",
              "      <td>107.000000</td>\n",
              "    </tr>\n",
              "    <tr>\n",
              "      <th>1</th>\n",
              "      <td>1</td>\n",
              "      <td>0.702128</td>\n",
              "      <td>0.702128</td>\n",
              "      <td>0.702128</td>\n",
              "      <td>47.000000</td>\n",
              "    </tr>\n",
              "    <tr>\n",
              "      <th>2</th>\n",
              "      <td>accuracy</td>\n",
              "      <td>0.818182</td>\n",
              "      <td>0.818182</td>\n",
              "      <td>0.818182</td>\n",
              "      <td>0.818182</td>\n",
              "    </tr>\n",
              "    <tr>\n",
              "      <th>3</th>\n",
              "      <td>macro avg</td>\n",
              "      <td>0.785643</td>\n",
              "      <td>0.785643</td>\n",
              "      <td>0.785643</td>\n",
              "      <td>154.000000</td>\n",
              "    </tr>\n",
              "    <tr>\n",
              "      <th>4</th>\n",
              "      <td>weighted avg</td>\n",
              "      <td>0.818182</td>\n",
              "      <td>0.818182</td>\n",
              "      <td>0.818182</td>\n",
              "      <td>154.000000</td>\n",
              "    </tr>\n",
              "  </tbody>\n",
              "</table>\n",
              "</div>"
            ],
            "text/plain": [
              "        Outcome  precision    recall  f1-score     support\n",
              "0             0   0.869159  0.869159  0.869159  107.000000\n",
              "1             1   0.702128  0.702128  0.702128   47.000000\n",
              "2      accuracy   0.818182  0.818182  0.818182    0.818182\n",
              "3     macro avg   0.785643  0.785643  0.785643  154.000000\n",
              "4  weighted avg   0.818182  0.818182  0.818182  154.000000"
            ]
          },
          "metadata": {
            "tags": []
          },
          "execution_count": 16
        }
      ]
    },
    {
      "cell_type": "code",
      "metadata": {
        "colab": {
          "base_uri": "https://localhost:8080/",
          "height": 204
        },
        "id": "YFFW3pPUvo_L",
        "outputId": "55641ace-3691-4b69-af5c-3169b399b39d"
      },
      "source": [
        "model = KNeighborsClassifier()\n",
        "\n",
        "model.fit(X_train,Y_train)\n",
        "      \n",
        "report = pd.DataFrame(metrics.classification_report(Y_test, model.predict(X_test),output_dict=True)).T.reset_index().rename(columns = {'index':'Outcome'})\n",
        "report"
      ],
      "execution_count": null,
      "outputs": [
        {
          "output_type": "execute_result",
          "data": {
            "text/html": [
              "<div>\n",
              "<style scoped>\n",
              "    .dataframe tbody tr th:only-of-type {\n",
              "        vertical-align: middle;\n",
              "    }\n",
              "\n",
              "    .dataframe tbody tr th {\n",
              "        vertical-align: top;\n",
              "    }\n",
              "\n",
              "    .dataframe thead th {\n",
              "        text-align: right;\n",
              "    }\n",
              "</style>\n",
              "<table border=\"1\" class=\"dataframe\">\n",
              "  <thead>\n",
              "    <tr style=\"text-align: right;\">\n",
              "      <th></th>\n",
              "      <th>Outcome</th>\n",
              "      <th>precision</th>\n",
              "      <th>recall</th>\n",
              "      <th>f1-score</th>\n",
              "      <th>support</th>\n",
              "    </tr>\n",
              "  </thead>\n",
              "  <tbody>\n",
              "    <tr>\n",
              "      <th>0</th>\n",
              "      <td>0</td>\n",
              "      <td>0.828571</td>\n",
              "      <td>0.813084</td>\n",
              "      <td>0.820755</td>\n",
              "      <td>107.000000</td>\n",
              "    </tr>\n",
              "    <tr>\n",
              "      <th>1</th>\n",
              "      <td>1</td>\n",
              "      <td>0.591837</td>\n",
              "      <td>0.617021</td>\n",
              "      <td>0.604167</td>\n",
              "      <td>47.000000</td>\n",
              "    </tr>\n",
              "    <tr>\n",
              "      <th>2</th>\n",
              "      <td>accuracy</td>\n",
              "      <td>0.753247</td>\n",
              "      <td>0.753247</td>\n",
              "      <td>0.753247</td>\n",
              "      <td>0.753247</td>\n",
              "    </tr>\n",
              "    <tr>\n",
              "      <th>3</th>\n",
              "      <td>macro avg</td>\n",
              "      <td>0.710204</td>\n",
              "      <td>0.715053</td>\n",
              "      <td>0.712461</td>\n",
              "      <td>154.000000</td>\n",
              "    </tr>\n",
              "    <tr>\n",
              "      <th>4</th>\n",
              "      <td>weighted avg</td>\n",
              "      <td>0.756321</td>\n",
              "      <td>0.753247</td>\n",
              "      <td>0.754653</td>\n",
              "      <td>154.000000</td>\n",
              "    </tr>\n",
              "  </tbody>\n",
              "</table>\n",
              "</div>"
            ],
            "text/plain": [
              "        Outcome  precision    recall  f1-score     support\n",
              "0             0   0.828571  0.813084  0.820755  107.000000\n",
              "1             1   0.591837  0.617021  0.604167   47.000000\n",
              "2      accuracy   0.753247  0.753247  0.753247    0.753247\n",
              "3     macro avg   0.710204  0.715053  0.712461  154.000000\n",
              "4  weighted avg   0.756321  0.753247  0.754653  154.000000"
            ]
          },
          "metadata": {
            "tags": []
          },
          "execution_count": 17
        }
      ]
    },
    {
      "cell_type": "code",
      "metadata": {
        "colab": {
          "base_uri": "https://localhost:8080/",
          "height": 204
        },
        "id": "REFlutf5vxaU",
        "outputId": "3dcba8bc-6cb7-469f-8a7b-d97a62c1f271"
      },
      "source": [
        "model = GaussianNB()\n",
        "\n",
        "model.fit(X_train,Y_train)\n",
        "      \n",
        "report = pd.DataFrame(metrics.classification_report(Y_test, model.predict(X_test),output_dict=True)).T.reset_index().rename(columns = {'index':'Outcome'})\n",
        "report"
      ],
      "execution_count": null,
      "outputs": [
        {
          "output_type": "execute_result",
          "data": {
            "text/html": [
              "<div>\n",
              "<style scoped>\n",
              "    .dataframe tbody tr th:only-of-type {\n",
              "        vertical-align: middle;\n",
              "    }\n",
              "\n",
              "    .dataframe tbody tr th {\n",
              "        vertical-align: top;\n",
              "    }\n",
              "\n",
              "    .dataframe thead th {\n",
              "        text-align: right;\n",
              "    }\n",
              "</style>\n",
              "<table border=\"1\" class=\"dataframe\">\n",
              "  <thead>\n",
              "    <tr style=\"text-align: right;\">\n",
              "      <th></th>\n",
              "      <th>Outcome</th>\n",
              "      <th>precision</th>\n",
              "      <th>recall</th>\n",
              "      <th>f1-score</th>\n",
              "      <th>support</th>\n",
              "    </tr>\n",
              "  </thead>\n",
              "  <tbody>\n",
              "    <tr>\n",
              "      <th>0</th>\n",
              "      <td>0</td>\n",
              "      <td>0.837838</td>\n",
              "      <td>0.869159</td>\n",
              "      <td>0.853211</td>\n",
              "      <td>107.000000</td>\n",
              "    </tr>\n",
              "    <tr>\n",
              "      <th>1</th>\n",
              "      <td>1</td>\n",
              "      <td>0.674419</td>\n",
              "      <td>0.617021</td>\n",
              "      <td>0.644444</td>\n",
              "      <td>47.000000</td>\n",
              "    </tr>\n",
              "    <tr>\n",
              "      <th>2</th>\n",
              "      <td>accuracy</td>\n",
              "      <td>0.792208</td>\n",
              "      <td>0.792208</td>\n",
              "      <td>0.792208</td>\n",
              "      <td>0.792208</td>\n",
              "    </tr>\n",
              "    <tr>\n",
              "      <th>3</th>\n",
              "      <td>macro avg</td>\n",
              "      <td>0.756128</td>\n",
              "      <td>0.743090</td>\n",
              "      <td>0.748828</td>\n",
              "      <td>154.000000</td>\n",
              "    </tr>\n",
              "    <tr>\n",
              "      <th>4</th>\n",
              "      <td>weighted avg</td>\n",
              "      <td>0.787963</td>\n",
              "      <td>0.792208</td>\n",
              "      <td>0.789497</td>\n",
              "      <td>154.000000</td>\n",
              "    </tr>\n",
              "  </tbody>\n",
              "</table>\n",
              "</div>"
            ],
            "text/plain": [
              "        Outcome  precision    recall  f1-score     support\n",
              "0             0   0.837838  0.869159  0.853211  107.000000\n",
              "1             1   0.674419  0.617021  0.644444   47.000000\n",
              "2      accuracy   0.792208  0.792208  0.792208    0.792208\n",
              "3     macro avg   0.756128  0.743090  0.748828  154.000000\n",
              "4  weighted avg   0.787963  0.792208  0.789497  154.000000"
            ]
          },
          "metadata": {
            "tags": []
          },
          "execution_count": 18
        }
      ]
    },
    {
      "cell_type": "code",
      "metadata": {
        "colab": {
          "base_uri": "https://localhost:8080/",
          "height": 221
        },
        "id": "dV4Ze3Mfv4Vp",
        "outputId": "9bf4e601-c7e1-4558-8877-408cae1aa17a"
      },
      "source": [
        "xgb_params = {'learning_rate'   : hp.choice('learning_rate',np.arange(0.05, 0.31, 0.05)),\n",
        "              'max_depth'       : hp.choice('max_depth', np.arange(1, 16, 1, dtype=int)),\n",
        "              'min_child_weight': hp.choice('min_child_weight', np.arange(1, 8, 1, dtype=int)),\n",
        "              'colsample_bytree': hp.choice('colsample_bytree', np.arange(0.3, 1.0, 0.1)),\n",
        "              'subsample':        hp.uniform('subsample', 0.8, 1),\n",
        "              'n_estimators':     hp.choice('n_estimators', np.arange(100, 500, 100, dtype=int))}\n",
        "\n",
        "def xgb_objective_func(params,X_Data,Y_Data):\n",
        "    model = XGBClassifier(**params)\n",
        "    CV_pred = cross_val_predict(model,X_Data,Y_Data, cv=StratifiedKFold(n_splits=5),method='predict')\n",
        "    accuracy = metrics.accuracy_score(Y_Data, CV_pred)\n",
        "    return -1*accuracy\n",
        "\n",
        "fmin_objective = partial(xgb_objective_func,X_Data= X_train,Y_Data = Y_train)\n",
        "\n",
        "xgb_tpe_best = fmin(fn=fmin_objective,\n",
        "                space=xgb_params,\n",
        "                algo=tpe.suggest,\n",
        "                trials=Trials(),\n",
        "                max_evals=10 )\n",
        "\n",
        "xgb_hyperparams = space_eval(xgb_params, xgb_tpe_best)\n",
        "\n",
        "xgb_model = XGBClassifier(**xgb_hyperparams)\n",
        "\n",
        "xgb_model.fit(X_train,Y_train)\n",
        "\n",
        "xgb_report = pd.DataFrame(metrics.classification_report(Y_test, xgb_model.predict(X_test),output_dict=True)).T.reset_index().rename(columns = {'index':'Outcome'})\n",
        "xgb_report"
      ],
      "execution_count": null,
      "outputs": [
        {
          "output_type": "stream",
          "text": [
            "100%|██████████| 10/10 [00:04<00:00,  2.14it/s, best loss: -0.750814332247557]\n"
          ],
          "name": "stdout"
        },
        {
          "output_type": "execute_result",
          "data": {
            "text/html": [
              "<div>\n",
              "<style scoped>\n",
              "    .dataframe tbody tr th:only-of-type {\n",
              "        vertical-align: middle;\n",
              "    }\n",
              "\n",
              "    .dataframe tbody tr th {\n",
              "        vertical-align: top;\n",
              "    }\n",
              "\n",
              "    .dataframe thead th {\n",
              "        text-align: right;\n",
              "    }\n",
              "</style>\n",
              "<table border=\"1\" class=\"dataframe\">\n",
              "  <thead>\n",
              "    <tr style=\"text-align: right;\">\n",
              "      <th></th>\n",
              "      <th>Outcome</th>\n",
              "      <th>precision</th>\n",
              "      <th>recall</th>\n",
              "      <th>f1-score</th>\n",
              "      <th>support</th>\n",
              "    </tr>\n",
              "  </thead>\n",
              "  <tbody>\n",
              "    <tr>\n",
              "      <th>0</th>\n",
              "      <td>0</td>\n",
              "      <td>0.863636</td>\n",
              "      <td>0.887850</td>\n",
              "      <td>0.875576</td>\n",
              "      <td>107.000000</td>\n",
              "    </tr>\n",
              "    <tr>\n",
              "      <th>1</th>\n",
              "      <td>1</td>\n",
              "      <td>0.727273</td>\n",
              "      <td>0.680851</td>\n",
              "      <td>0.703297</td>\n",
              "      <td>47.000000</td>\n",
              "    </tr>\n",
              "    <tr>\n",
              "      <th>2</th>\n",
              "      <td>accuracy</td>\n",
              "      <td>0.824675</td>\n",
              "      <td>0.824675</td>\n",
              "      <td>0.824675</td>\n",
              "      <td>0.824675</td>\n",
              "    </tr>\n",
              "    <tr>\n",
              "      <th>3</th>\n",
              "      <td>macro avg</td>\n",
              "      <td>0.795455</td>\n",
              "      <td>0.784351</td>\n",
              "      <td>0.789436</td>\n",
              "      <td>154.000000</td>\n",
              "    </tr>\n",
              "    <tr>\n",
              "      <th>4</th>\n",
              "      <td>weighted avg</td>\n",
              "      <td>0.822019</td>\n",
              "      <td>0.824675</td>\n",
              "      <td>0.822997</td>\n",
              "      <td>154.000000</td>\n",
              "    </tr>\n",
              "  </tbody>\n",
              "</table>\n",
              "</div>"
            ],
            "text/plain": [
              "        Outcome  precision    recall  f1-score     support\n",
              "0             0   0.863636  0.887850  0.875576  107.000000\n",
              "1             1   0.727273  0.680851  0.703297   47.000000\n",
              "2      accuracy   0.824675  0.824675  0.824675    0.824675\n",
              "3     macro avg   0.795455  0.784351  0.789436  154.000000\n",
              "4  weighted avg   0.822019  0.824675  0.822997  154.000000"
            ]
          },
          "metadata": {
            "tags": []
          },
          "execution_count": 19
        }
      ]
    },
    {
      "cell_type": "code",
      "metadata": {
        "colab": {
          "base_uri": "https://localhost:8080/"
        },
        "id": "2sqO7bIHxAcl",
        "outputId": "255f8657-78f8-43ab-be86-95b719df169a"
      },
      "source": [
        "xgb_model.predict_proba(X_test)"
      ],
      "execution_count": null,
      "outputs": [
        {
          "output_type": "execute_result",
          "data": {
            "text/plain": [
              "array([[0.30488062, 0.6951194 ],\n",
              "       [0.8516191 , 0.14838088],\n",
              "       [0.9129287 , 0.08707127],\n",
              "       [0.48261803, 0.51738197],\n",
              "       [0.8742917 , 0.1257083 ],\n",
              "       [0.94280624, 0.05719377],\n",
              "       [0.1746884 , 0.8253116 ],\n",
              "       [0.08231068, 0.9176893 ],\n",
              "       [0.5490586 , 0.45094138],\n",
              "       [0.64973044, 0.3502696 ],\n",
              "       [0.17130393, 0.8286961 ],\n",
              "       [0.12681592, 0.8731841 ],\n",
              "       [0.9083239 , 0.09167611],\n",
              "       [0.7079181 , 0.2920819 ],\n",
              "       [0.6493941 , 0.3506059 ],\n",
              "       [0.35506332, 0.6449367 ],\n",
              "       [0.13547295, 0.86452705],\n",
              "       [0.97147566, 0.02852433],\n",
              "       [0.7899304 , 0.21006958],\n",
              "       [0.8682068 , 0.13179322],\n",
              "       [0.40426862, 0.5957314 ],\n",
              "       [0.885224  , 0.11477604],\n",
              "       [0.71714175, 0.28285825],\n",
              "       [0.6826416 , 0.31735834],\n",
              "       [0.97766846, 0.02233153],\n",
              "       [0.6421442 , 0.35785583],\n",
              "       [0.9419228 , 0.0580772 ],\n",
              "       [0.32030106, 0.67969894],\n",
              "       [0.96384716, 0.03615285],\n",
              "       [0.92723894, 0.07276107],\n",
              "       [0.6210889 , 0.37891108],\n",
              "       [0.80295897, 0.19704105],\n",
              "       [0.8206968 , 0.17930324],\n",
              "       [0.52729523, 0.4727048 ],\n",
              "       [0.9694755 , 0.0305245 ],\n",
              "       [0.18593633, 0.81406367],\n",
              "       [0.5038331 , 0.49616688],\n",
              "       [0.9720241 , 0.0279759 ],\n",
              "       [0.758345  , 0.24165498],\n",
              "       [0.30102056, 0.69897944],\n",
              "       [0.68682826, 0.3131717 ],\n",
              "       [0.8692488 , 0.1307512 ],\n",
              "       [0.8682507 , 0.13174927],\n",
              "       [0.28071988, 0.7192801 ],\n",
              "       [0.36197424, 0.63802576],\n",
              "       [0.9576737 , 0.04232627],\n",
              "       [0.97160846, 0.02839153],\n",
              "       [0.9161669 , 0.08383312],\n",
              "       [0.6992651 , 0.3007349 ],\n",
              "       [0.5814501 , 0.41854993],\n",
              "       [0.53293824, 0.46706173],\n",
              "       [0.7951958 , 0.20480418],\n",
              "       [0.24194223, 0.7580578 ],\n",
              "       [0.3613004 , 0.6386996 ],\n",
              "       [0.7566234 , 0.24337663],\n",
              "       [0.9835133 , 0.01648669],\n",
              "       [0.75137824, 0.24862175],\n",
              "       [0.6958146 , 0.30418536],\n",
              "       [0.72394407, 0.27605593],\n",
              "       [0.8521618 , 0.14783816],\n",
              "       [0.15866452, 0.8413355 ],\n",
              "       [0.23655999, 0.76344   ],\n",
              "       [0.91629636, 0.08370363],\n",
              "       [0.28101635, 0.71898365],\n",
              "       [0.09379148, 0.9062085 ],\n",
              "       [0.40635335, 0.59364665],\n",
              "       [0.2657169 , 0.7342831 ],\n",
              "       [0.88069725, 0.11930278],\n",
              "       [0.2964003 , 0.7035997 ],\n",
              "       [0.7244474 , 0.27555257],\n",
              "       [0.83242404, 0.16757594],\n",
              "       [0.8024819 , 0.1975181 ],\n",
              "       [0.7960991 , 0.20390089],\n",
              "       [0.15268213, 0.8473179 ],\n",
              "       [0.14856523, 0.85143477],\n",
              "       [0.3894863 , 0.6105137 ],\n",
              "       [0.8721952 , 0.12780483],\n",
              "       [0.47250342, 0.5274966 ],\n",
              "       [0.788507  , 0.21149299],\n",
              "       [0.72459686, 0.27540314],\n",
              "       [0.7273413 , 0.27265868],\n",
              "       [0.61592466, 0.38407534],\n",
              "       [0.71872616, 0.28127387],\n",
              "       [0.9847134 , 0.0152866 ],\n",
              "       [0.8720543 , 0.1279457 ],\n",
              "       [0.67138624, 0.32861376],\n",
              "       [0.93034273, 0.06965726],\n",
              "       [0.779193  , 0.220807  ],\n",
              "       [0.10975516, 0.89024484],\n",
              "       [0.88611364, 0.11388639],\n",
              "       [0.60134006, 0.3986599 ],\n",
              "       [0.82003415, 0.17996582],\n",
              "       [0.81182426, 0.18817572],\n",
              "       [0.9734135 , 0.02658646],\n",
              "       [0.27123445, 0.72876555],\n",
              "       [0.9445057 , 0.0554943 ],\n",
              "       [0.66006875, 0.33993122],\n",
              "       [0.72420895, 0.27579102],\n",
              "       [0.6649436 , 0.3350564 ],\n",
              "       [0.47627062, 0.5237294 ],\n",
              "       [0.8107026 , 0.18929738],\n",
              "       [0.9792791 , 0.02072092],\n",
              "       [0.88162625, 0.11837378],\n",
              "       [0.9758673 , 0.02413271],\n",
              "       [0.49454188, 0.5054581 ],\n",
              "       [0.27223647, 0.72776353],\n",
              "       [0.80133224, 0.19866778],\n",
              "       [0.6149143 , 0.38508567],\n",
              "       [0.9652392 , 0.03476075],\n",
              "       [0.35794932, 0.6420507 ],\n",
              "       [0.9169904 , 0.08300961],\n",
              "       [0.5416075 , 0.45839247],\n",
              "       [0.45141548, 0.5485845 ],\n",
              "       [0.35061407, 0.6493859 ],\n",
              "       [0.44875944, 0.55124056],\n",
              "       [0.3408075 , 0.6591925 ],\n",
              "       [0.94713986, 0.05286014],\n",
              "       [0.74368155, 0.25631848],\n",
              "       [0.9153944 , 0.08460558],\n",
              "       [0.40090615, 0.59909385],\n",
              "       [0.60794336, 0.39205664],\n",
              "       [0.7623228 , 0.23767723],\n",
              "       [0.8312372 , 0.16876282],\n",
              "       [0.6119282 , 0.3880718 ],\n",
              "       [0.96881455, 0.03118543],\n",
              "       [0.9743413 , 0.02565871],\n",
              "       [0.8208989 , 0.17910114],\n",
              "       [0.5797032 , 0.4202968 ],\n",
              "       [0.8128052 , 0.18719482],\n",
              "       [0.5420104 , 0.45798954],\n",
              "       [0.6406517 , 0.35934827],\n",
              "       [0.9079576 , 0.09204241],\n",
              "       [0.9349065 , 0.06509352],\n",
              "       [0.32142156, 0.67857844],\n",
              "       [0.59506845, 0.40493155],\n",
              "       [0.4289894 , 0.5710106 ],\n",
              "       [0.78135496, 0.21864505],\n",
              "       [0.4682523 , 0.5317477 ],\n",
              "       [0.4248653 , 0.5751347 ],\n",
              "       [0.8151861 , 0.18481393],\n",
              "       [0.95888275, 0.04111724],\n",
              "       [0.24390972, 0.7560903 ],\n",
              "       [0.97754574, 0.02245423],\n",
              "       [0.8171749 , 0.18282512],\n",
              "       [0.37971675, 0.62028325],\n",
              "       [0.9823069 , 0.01769309],\n",
              "       [0.95008534, 0.04991467],\n",
              "       [0.93564045, 0.06435957],\n",
              "       [0.8648213 , 0.13517866],\n",
              "       [0.71306777, 0.28693223],\n",
              "       [0.9484838 , 0.0515162 ],\n",
              "       [0.6603786 , 0.3396214 ],\n",
              "       [0.9677756 , 0.03222439],\n",
              "       [0.8282257 , 0.17177433]], dtype=float32)"
            ]
          },
          "metadata": {
            "tags": []
          },
          "execution_count": 20
        }
      ]
    },
    {
      "cell_type": "code",
      "metadata": {
        "id": "oTLyHtoI9srg",
        "colab": {
          "base_uri": "https://localhost:8080/"
        },
        "outputId": "fd71180f-ad06-4bb7-ef6f-aeec8e487869"
      },
      "source": [
        "df = pd.DataFrame({'Name':['ff', 'gg', 'hh', 'yy'],  'Age':[24, 12, 48, 30]},  columns = ['Name', 'Age'])\n",
        "df\n",
        "df['Name']\n",
        "df.loc[:, 'Name']"
      ],
      "execution_count": null,
      "outputs": [
        {
          "output_type": "execute_result",
          "data": {
            "text/plain": [
              "0    ff\n",
              "1    gg\n",
              "2    hh\n",
              "3    yy\n",
              "Name: Name, dtype: object"
            ]
          },
          "metadata": {
            "tags": []
          },
          "execution_count": 28
        }
      ]
    },
    {
      "cell_type": "code",
      "metadata": {
        "colab": {
          "base_uri": "https://localhost:8080/"
        },
        "id": "lLJ66OvnPRbw",
        "outputId": "44d81704-efd3-47ee-e729-a655ff9c0dce"
      },
      "source": [
        "#Suppose you are given a dataframe df.\n",
        "df = pd.DataFrame({'Click_Id':['A','B','C','D','E'],'Count':[100,200,300,400,250]})\n",
        "#Now you want to change the name of the column ‘Count’ in df to ‘Click_Count’. So, for performing that action you have written the following code.\n",
        "df.rename(columns = {'Count':'Click_Count'})\n",
        "#What will be the output of print statement below?\n",
        "print(df.columns)"
      ],
      "execution_count": null,
      "outputs": [
        {
          "output_type": "stream",
          "text": [
            "Index(['Click_Id', 'Count'], dtype='object')\n"
          ],
          "name": "stdout"
        }
      ]
    },
    {
      "cell_type": "code",
      "metadata": {
        "colab": {
          "base_uri": "https://localhost:8080/"
        },
        "id": "PzTGLtESSoP9",
        "outputId": "568dca37-63e2-49dd-de3e-3b3c260d388a"
      },
      "source": [
        "teamA = {'india', 'pakistan', 'australia', 'newzealand', 'india', 'kiwis'}\n",
        "teamB = {'england', 'westIndies','sriLanka','afghanistan', 'pakistan'}\n",
        "teamB - teamA"
      ],
      "execution_count": null,
      "outputs": [
        {
          "output_type": "execute_result",
          "data": {
            "text/plain": [
              "{'afghanistan', 'england', 'sriLanka', 'westIndies'}"
            ]
          },
          "metadata": {
            "tags": []
          },
          "execution_count": 31
        }
      ]
    },
    {
      "cell_type": "code",
      "metadata": {
        "colab": {
          "base_uri": "https://localhost:8080/"
        },
        "id": "ZDl6pBrTS7O-",
        "outputId": "4c0230e7-dbd3-41c6-9e3f-6bd33b364b76"
      },
      "source": [
        "teamA.union(teamB)"
      ],
      "execution_count": null,
      "outputs": [
        {
          "output_type": "execute_result",
          "data": {
            "text/plain": [
              "{'afghanistan',\n",
              " 'australia',\n",
              " 'england',\n",
              " 'india',\n",
              " 'kiwis',\n",
              " 'newzealand',\n",
              " 'pakistan',\n",
              " 'sriLanka',\n",
              " 'westIndies'}"
            ]
          },
          "metadata": {
            "tags": []
          },
          "execution_count": 32
        }
      ]
    },
    {
      "cell_type": "code",
      "metadata": {
        "colab": {
          "base_uri": "https://localhost:8080/"
        },
        "id": "6AilZdgmTD4z",
        "outputId": "79d5fab5-1c3e-439e-f8c4-e6ea2c41ea1e"
      },
      "source": [
        "teamB | teamA"
      ],
      "execution_count": null,
      "outputs": [
        {
          "output_type": "execute_result",
          "data": {
            "text/plain": [
              "{'afghanistan',\n",
              " 'australia',\n",
              " 'england',\n",
              " 'india',\n",
              " 'kiwis',\n",
              " 'newzealand',\n",
              " 'pakistan',\n",
              " 'sriLanka',\n",
              " 'westIndies'}"
            ]
          },
          "metadata": {
            "tags": []
          },
          "execution_count": 33
        }
      ]
    },
    {
      "cell_type": "code",
      "metadata": {
        "colab": {
          "base_uri": "https://localhost:8080/"
        },
        "id": "ktau9ej7TJbS",
        "outputId": "af0f512a-f095-4a22-8528-e38c47e37f74"
      },
      "source": [
        "teamB & teamA"
      ],
      "execution_count": null,
      "outputs": [
        {
          "output_type": "execute_result",
          "data": {
            "text/plain": [
              "{'pakistan'}"
            ]
          },
          "metadata": {
            "tags": []
          },
          "execution_count": 34
        }
      ]
    }
  ]
}